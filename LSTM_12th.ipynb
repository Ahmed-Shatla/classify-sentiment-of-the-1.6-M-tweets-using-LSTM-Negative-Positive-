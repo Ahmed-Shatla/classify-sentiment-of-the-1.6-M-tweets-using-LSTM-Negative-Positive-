{
  "nbformat": 4,
  "nbformat_minor": 0,
  "metadata": {
    "colab": {
      "name": "LSTM_12th.ipynb",
      "provenance": [],
      "authorship_tag": "ABX9TyNobAPQ5shpj6ftEVEFtcUq",
      "include_colab_link": true
    },
    "kernelspec": {
      "name": "python3",
      "display_name": "Python 3"
    },
    "language_info": {
      "name": "python"
    },
    "accelerator": "TPU"
  },
  "cells": [
    {
      "cell_type": "markdown",
      "metadata": {
        "id": "view-in-github",
        "colab_type": "text"
      },
      "source": [
        "<a href=\"https://colab.research.google.com/github/Ahmed-Shatla/classify-sentiment-of-the-1.6-M-tweets-using-LSTM-Negative-Positive-/blob/main/LSTM_12th.ipynb\" target=\"_parent\"><img src=\"https://colab.research.google.com/assets/colab-badge.svg\" alt=\"Open In Colab\"/></a>"
      ]
    },
    {
      "cell_type": "code",
      "source": [
        "from google.colab import drive\n",
        "drive.mount('/content/drive')"
      ],
      "metadata": {
        "colab": {
          "base_uri": "https://localhost:8080/"
        },
        "id": "Efa8ejWsWxVM",
        "outputId": "8f81ea8a-caf1-4efe-a499-0c755fe9e061"
      },
      "execution_count": 1,
      "outputs": [
        {
          "output_type": "stream",
          "name": "stdout",
          "text": [
            "Drive already mounted at /content/drive; to attempt to forcibly remount, call drive.mount(\"/content/drive\", force_remount=True).\n"
          ]
        }
      ]
    },
    {
      "cell_type": "code",
      "execution_count": 2,
      "metadata": {
        "id": "ZwtKtLIVWvgv"
      },
      "outputs": [],
      "source": [
        "import pandas as pd\n",
        "import numpy as np\n",
        "import matplotlib.pyplot as plt\n",
        "import seaborn as sns\n",
        "import nltk\n"
      ]
    },
    {
      "cell_type": "code",
      "source": [
        "data = pd.read_csv('/content/drive/MyDrive/12th deep learning/training.csv',encoding=\"ISO-8859-1\",names=['Target','ID','Date','Query_flag','User','Tweet_text'])\n",
        "data.head()"
      ],
      "metadata": {
        "colab": {
          "base_uri": "https://localhost:8080/",
          "height": 206
        },
        "id": "qHOmwJftXGp8",
        "outputId": "9ea88204-6bb6-4c39-c96e-2e8c9247c39c"
      },
      "execution_count": 3,
      "outputs": [
        {
          "output_type": "execute_result",
          "data": {
            "text/plain": [
              "   Target          ID                          Date Query_flag  \\\n",
              "0       0  1467810369  Mon Apr 06 22:19:45 PDT 2009   NO_QUERY   \n",
              "1       0  1467810672  Mon Apr 06 22:19:49 PDT 2009   NO_QUERY   \n",
              "2       0  1467810917  Mon Apr 06 22:19:53 PDT 2009   NO_QUERY   \n",
              "3       0  1467811184  Mon Apr 06 22:19:57 PDT 2009   NO_QUERY   \n",
              "4       0  1467811193  Mon Apr 06 22:19:57 PDT 2009   NO_QUERY   \n",
              "\n",
              "              User                                         Tweet_text  \n",
              "0  _TheSpecialOne_  @switchfoot http://twitpic.com/2y1zl - Awww, t...  \n",
              "1    scotthamilton  is upset that he can't update his Facebook by ...  \n",
              "2         mattycus  @Kenichan I dived many times for the ball. Man...  \n",
              "3          ElleCTF    my whole body feels itchy and like its on fire   \n",
              "4           Karoli  @nationwideclass no, it's not behaving at all....  "
            ],
            "text/html": [
              "\n",
              "  <div id=\"df-d4da5494-caa1-43db-be2d-5fbdad5b2c80\">\n",
              "    <div class=\"colab-df-container\">\n",
              "      <div>\n",
              "<style scoped>\n",
              "    .dataframe tbody tr th:only-of-type {\n",
              "        vertical-align: middle;\n",
              "    }\n",
              "\n",
              "    .dataframe tbody tr th {\n",
              "        vertical-align: top;\n",
              "    }\n",
              "\n",
              "    .dataframe thead th {\n",
              "        text-align: right;\n",
              "    }\n",
              "</style>\n",
              "<table border=\"1\" class=\"dataframe\">\n",
              "  <thead>\n",
              "    <tr style=\"text-align: right;\">\n",
              "      <th></th>\n",
              "      <th>Target</th>\n",
              "      <th>ID</th>\n",
              "      <th>Date</th>\n",
              "      <th>Query_flag</th>\n",
              "      <th>User</th>\n",
              "      <th>Tweet_text</th>\n",
              "    </tr>\n",
              "  </thead>\n",
              "  <tbody>\n",
              "    <tr>\n",
              "      <th>0</th>\n",
              "      <td>0</td>\n",
              "      <td>1467810369</td>\n",
              "      <td>Mon Apr 06 22:19:45 PDT 2009</td>\n",
              "      <td>NO_QUERY</td>\n",
              "      <td>_TheSpecialOne_</td>\n",
              "      <td>@switchfoot http://twitpic.com/2y1zl - Awww, t...</td>\n",
              "    </tr>\n",
              "    <tr>\n",
              "      <th>1</th>\n",
              "      <td>0</td>\n",
              "      <td>1467810672</td>\n",
              "      <td>Mon Apr 06 22:19:49 PDT 2009</td>\n",
              "      <td>NO_QUERY</td>\n",
              "      <td>scotthamilton</td>\n",
              "      <td>is upset that he can't update his Facebook by ...</td>\n",
              "    </tr>\n",
              "    <tr>\n",
              "      <th>2</th>\n",
              "      <td>0</td>\n",
              "      <td>1467810917</td>\n",
              "      <td>Mon Apr 06 22:19:53 PDT 2009</td>\n",
              "      <td>NO_QUERY</td>\n",
              "      <td>mattycus</td>\n",
              "      <td>@Kenichan I dived many times for the ball. Man...</td>\n",
              "    </tr>\n",
              "    <tr>\n",
              "      <th>3</th>\n",
              "      <td>0</td>\n",
              "      <td>1467811184</td>\n",
              "      <td>Mon Apr 06 22:19:57 PDT 2009</td>\n",
              "      <td>NO_QUERY</td>\n",
              "      <td>ElleCTF</td>\n",
              "      <td>my whole body feels itchy and like its on fire</td>\n",
              "    </tr>\n",
              "    <tr>\n",
              "      <th>4</th>\n",
              "      <td>0</td>\n",
              "      <td>1467811193</td>\n",
              "      <td>Mon Apr 06 22:19:57 PDT 2009</td>\n",
              "      <td>NO_QUERY</td>\n",
              "      <td>Karoli</td>\n",
              "      <td>@nationwideclass no, it's not behaving at all....</td>\n",
              "    </tr>\n",
              "  </tbody>\n",
              "</table>\n",
              "</div>\n",
              "      <button class=\"colab-df-convert\" onclick=\"convertToInteractive('df-d4da5494-caa1-43db-be2d-5fbdad5b2c80')\"\n",
              "              title=\"Convert this dataframe to an interactive table.\"\n",
              "              style=\"display:none;\">\n",
              "        \n",
              "  <svg xmlns=\"http://www.w3.org/2000/svg\" height=\"24px\"viewBox=\"0 0 24 24\"\n",
              "       width=\"24px\">\n",
              "    <path d=\"M0 0h24v24H0V0z\" fill=\"none\"/>\n",
              "    <path d=\"M18.56 5.44l.94 2.06.94-2.06 2.06-.94-2.06-.94-.94-2.06-.94 2.06-2.06.94zm-11 1L8.5 8.5l.94-2.06 2.06-.94-2.06-.94L8.5 2.5l-.94 2.06-2.06.94zm10 10l.94 2.06.94-2.06 2.06-.94-2.06-.94-.94-2.06-.94 2.06-2.06.94z\"/><path d=\"M17.41 7.96l-1.37-1.37c-.4-.4-.92-.59-1.43-.59-.52 0-1.04.2-1.43.59L10.3 9.45l-7.72 7.72c-.78.78-.78 2.05 0 2.83L4 21.41c.39.39.9.59 1.41.59.51 0 1.02-.2 1.41-.59l7.78-7.78 2.81-2.81c.8-.78.8-2.07 0-2.86zM5.41 20L4 18.59l7.72-7.72 1.47 1.35L5.41 20z\"/>\n",
              "  </svg>\n",
              "      </button>\n",
              "      \n",
              "  <style>\n",
              "    .colab-df-container {\n",
              "      display:flex;\n",
              "      flex-wrap:wrap;\n",
              "      gap: 12px;\n",
              "    }\n",
              "\n",
              "    .colab-df-convert {\n",
              "      background-color: #E8F0FE;\n",
              "      border: none;\n",
              "      border-radius: 50%;\n",
              "      cursor: pointer;\n",
              "      display: none;\n",
              "      fill: #1967D2;\n",
              "      height: 32px;\n",
              "      padding: 0 0 0 0;\n",
              "      width: 32px;\n",
              "    }\n",
              "\n",
              "    .colab-df-convert:hover {\n",
              "      background-color: #E2EBFA;\n",
              "      box-shadow: 0px 1px 2px rgba(60, 64, 67, 0.3), 0px 1px 3px 1px rgba(60, 64, 67, 0.15);\n",
              "      fill: #174EA6;\n",
              "    }\n",
              "\n",
              "    [theme=dark] .colab-df-convert {\n",
              "      background-color: #3B4455;\n",
              "      fill: #D2E3FC;\n",
              "    }\n",
              "\n",
              "    [theme=dark] .colab-df-convert:hover {\n",
              "      background-color: #434B5C;\n",
              "      box-shadow: 0px 1px 3px 1px rgba(0, 0, 0, 0.15);\n",
              "      filter: drop-shadow(0px 1px 2px rgba(0, 0, 0, 0.3));\n",
              "      fill: #FFFFFF;\n",
              "    }\n",
              "  </style>\n",
              "\n",
              "      <script>\n",
              "        const buttonEl =\n",
              "          document.querySelector('#df-d4da5494-caa1-43db-be2d-5fbdad5b2c80 button.colab-df-convert');\n",
              "        buttonEl.style.display =\n",
              "          google.colab.kernel.accessAllowed ? 'block' : 'none';\n",
              "\n",
              "        async function convertToInteractive(key) {\n",
              "          const element = document.querySelector('#df-d4da5494-caa1-43db-be2d-5fbdad5b2c80');\n",
              "          const dataTable =\n",
              "            await google.colab.kernel.invokeFunction('convertToInteractive',\n",
              "                                                     [key], {});\n",
              "          if (!dataTable) return;\n",
              "\n",
              "          const docLinkHtml = 'Like what you see? Visit the ' +\n",
              "            '<a target=\"_blank\" href=https://colab.research.google.com/notebooks/data_table.ipynb>data table notebook</a>'\n",
              "            + ' to learn more about interactive tables.';\n",
              "          element.innerHTML = '';\n",
              "          dataTable['output_type'] = 'display_data';\n",
              "          await google.colab.output.renderOutput(dataTable, element);\n",
              "          const docLink = document.createElement('div');\n",
              "          docLink.innerHTML = docLinkHtml;\n",
              "          element.appendChild(docLink);\n",
              "        }\n",
              "      </script>\n",
              "    </div>\n",
              "  </div>\n",
              "  "
            ]
          },
          "metadata": {},
          "execution_count": 3
        }
      ]
    },
    {
      "cell_type": "code",
      "source": [
        "data['Target'].unique()"
      ],
      "metadata": {
        "colab": {
          "base_uri": "https://localhost:8080/"
        },
        "id": "xXm868o4XPJh",
        "outputId": "287f805d-ec2a-466f-bc77-04357487b17b"
      },
      "execution_count": 4,
      "outputs": [
        {
          "output_type": "execute_result",
          "data": {
            "text/plain": [
              "array([0, 4])"
            ]
          },
          "metadata": {},
          "execution_count": 4
        }
      ]
    },
    {
      "cell_type": "code",
      "source": [
        "data.shape"
      ],
      "metadata": {
        "colab": {
          "base_uri": "https://localhost:8080/"
        },
        "id": "KHvEC3aVYUrc",
        "outputId": "0b2e24ed-2d94-4860-ea58-6e6d5c7c7ced"
      },
      "execution_count": 5,
      "outputs": [
        {
          "output_type": "execute_result",
          "data": {
            "text/plain": [
              "(1600000, 6)"
            ]
          },
          "metadata": {},
          "execution_count": 5
        }
      ]
    },
    {
      "cell_type": "code",
      "source": [
        "data.dtypes"
      ],
      "metadata": {
        "colab": {
          "base_uri": "https://localhost:8080/"
        },
        "id": "7AP7LM_jZSwF",
        "outputId": "64d1d014-0b3c-43cd-c6fc-9c81eb7efbb8"
      },
      "execution_count": 6,
      "outputs": [
        {
          "output_type": "execute_result",
          "data": {
            "text/plain": [
              "Target         int64\n",
              "ID             int64\n",
              "Date          object\n",
              "Query_flag    object\n",
              "User          object\n",
              "Tweet_text    object\n",
              "dtype: object"
            ]
          },
          "metadata": {},
          "execution_count": 6
        }
      ]
    },
    {
      "cell_type": "code",
      "source": [
        "sns.countplot(data['Target'])"
      ],
      "metadata": {
        "colab": {
          "base_uri": "https://localhost:8080/",
          "height": 351
        },
        "id": "-aIO6y6WZdNQ",
        "outputId": "e79c532c-f5e7-47a3-dd89-b143224a6ec3"
      },
      "execution_count": 7,
      "outputs": [
        {
          "output_type": "stream",
          "name": "stderr",
          "text": [
            "/usr/local/lib/python3.7/dist-packages/seaborn/_decorators.py:43: FutureWarning: Pass the following variable as a keyword arg: x. From version 0.12, the only valid positional argument will be `data`, and passing other arguments without an explicit keyword will result in an error or misinterpretation.\n",
            "  FutureWarning\n"
          ]
        },
        {
          "output_type": "execute_result",
          "data": {
            "text/plain": [
              "<matplotlib.axes._subplots.AxesSubplot at 0x7f83be908050>"
            ]
          },
          "metadata": {},
          "execution_count": 7
        },
        {
          "output_type": "display_data",
          "data": {
            "text/plain": [
              "<Figure size 432x288 with 1 Axes>"
            ],
            "image/png": "[encoded data removed]"
          },
          "metadata": {
            "needs_background": "light"
          }
        }
      ]
    },
    {
      "cell_type": "code",
      "source": [
        "data.isna().sum()"
      ],
      "metadata": {
        "colab": {
          "base_uri": "https://localhost:8080/"
        },
        "id": "9IJzOE8qkmfL",
        "outputId": "d4c867cf-cf5a-436b-c559-df709360a0e7"
      },
      "execution_count": 8,
      "outputs": [
        {
          "output_type": "execute_result",
          "data": {
            "text/plain": [
              "Target        0\n",
              "ID            0\n",
              "Date          0\n",
              "Query_flag    0\n",
              "User          0\n",
              "Tweet_text    0\n",
              "dtype: int64"
            ]
          },
          "metadata": {},
          "execution_count": 8
        }
      ]
    },
    {
      "cell_type": "code",
      "source": [
        "tweets=np.array(data['Tweet_text'])"
      ],
      "metadata": {
        "id": "owgeWupReV-m"
      },
      "execution_count": 9,
      "outputs": []
    },
    {
      "cell_type": "code",
      "source": [
        "tweets[0]"
      ],
      "metadata": {
        "colab": {
          "base_uri": "https://localhost:8080/",
          "height": 35
        },
        "id": "hEzUQP9EkzF_",
        "outputId": "10d290d1-760f-4d0e-acbe-9602904e868e"
      },
      "execution_count": 10,
      "outputs": [
        {
          "output_type": "execute_result",
          "data": {
            "text/plain": [
              "\"@switchfoot http://twitpic.com/2y1zl - Awww, that's a bummer.  You shoulda got David Carr of Third Day to do it. ;D\""
            ],
            "application/vnd.google.colaboratory.intrinsic+json": {
              "type": "string"
            }
          },
          "metadata": {},
          "execution_count": 10
        }
      ]
    },
    {
      "cell_type": "code",
      "source": [
        "import re\n",
        "def clean_text(text):\n",
        "  text = re.sub(r'#\\w*','',text) #removing hashtags\n",
        "  text = re.sub(r'@\\w*','',text) #removing minshions\n",
        "  text = re.sub(r'https?:\\S*','',text) #removing http/s links\n",
        "  text = re.sub(r'\\d*','',text) #removing numbers\n",
        "  text = re.sub(r'\\W+',' ',text) #removing non words like (- , :)\n",
        "  text = re.sub(r'_','',text) #removing underscore symbol\n",
        "  text = re.sub(r'\\s\\S$','',text) #removing single characters at the end of the sentenses\n",
        "  text = re.sub(r'^\\s','',text) #removing spaces at the begain of the sentences\n",
        "  text = re.sub(r'\\s$','',text) #removing spaces at the end of the sentences\n",
        "\n",
        "\n",
        "  return text"
      ],
      "metadata": {
        "id": "Qc0Iq01Pg0qU"
      },
      "execution_count": 11,
      "outputs": []
    },
    {
      "cell_type": "code",
      "source": [
        "clean_tweets = []\n",
        "for tweet in tweets:\n",
        "  clean_tweets.append(clean_text(tweet))\n",
        "clean_tweets[0]"
      ],
      "metadata": {
        "colab": {
          "base_uri": "https://localhost:8080/",
          "height": 35
        },
        "id": "Mfu2Bj7SknoP",
        "outputId": "5f15dde6-638b-42e1-d41f-56e0a296461b"
      },
      "execution_count": 12,
      "outputs": [
        {
          "output_type": "execute_result",
          "data": {
            "text/plain": [
              "'Awww that s a bummer You shoulda got David Carr of Third Day to do it'"
            ],
            "application/vnd.google.colaboratory.intrinsic+json": {
              "type": "string"
            }
          },
          "metadata": {},
          "execution_count": 12
        }
      ]
    },
    {
      "cell_type": "code",
      "source": [
        "splitted_tweets = []\n",
        "for tweet in clean_tweets:\n",
        "  splitted_tweets.append(tweet.split())\n",
        "splitted_tweets[0]"
      ],
      "metadata": {
        "colab": {
          "base_uri": "https://localhost:8080/"
        },
        "id": "cgCh7UvIghzu",
        "outputId": "2ce77b2c-ebf8-4d73-8a68-bceac04eb6af"
      },
      "execution_count": 13,
      "outputs": [
        {
          "output_type": "execute_result",
          "data": {
            "text/plain": [
              "['Awww',\n",
              " 'that',\n",
              " 's',\n",
              " 'a',\n",
              " 'bummer',\n",
              " 'You',\n",
              " 'shoulda',\n",
              " 'got',\n",
              " 'David',\n",
              " 'Carr',\n",
              " 'of',\n",
              " 'Third',\n",
              " 'Day',\n",
              " 'to',\n",
              " 'do',\n",
              " 'it']"
            ]
          },
          "metadata": {},
          "execution_count": 13
        }
      ]
    },
    {
      "cell_type": "markdown",
      "source": [
        "#Downloading stop_words"
      ],
      "metadata": {
        "id": "Z9E2gz35alq0"
      }
    },
    {
      "cell_type": "code",
      "source": [
        "from nltk.corpus import stopwords\n",
        "nltk.download('stopwords')\n",
        "stop_words = stopwords.words('english')\n",
        "#example\n",
        "stop_words[:10]"
      ],
      "metadata": {
        "colab": {
          "base_uri": "https://localhost:8080/"
        },
        "id": "bDwPnDkQakwM",
        "outputId": "310e46cb-379f-4af6-85b2-09fbcc1fb81a"
      },
      "execution_count": 14,
      "outputs": [
        {
          "output_type": "stream",
          "name": "stdout",
          "text": [
            "[nltk_data] Downloading package stopwords to /root/nltk_data...\n",
            "[nltk_data]   Package stopwords is already up-to-date!\n"
          ]
        },
        {
          "output_type": "execute_result",
          "data": {
            "text/plain": [
              "['i', 'me', 'my', 'myself', 'we', 'our', 'ours', 'ourselves', 'you', \"you're\"]"
            ]
          },
          "metadata": {},
          "execution_count": 14
        }
      ]
    },
    {
      "cell_type": "code",
      "source": [
        "def remove_stopwords(words): \n",
        "  WORDS = []\n",
        "  for word in words:\n",
        "    if word.lower() not in stop_words and len(word)!=1:   ##check if the word is stop or not with making sure its small word \n",
        "      WORDS.append(word)\n",
        "  return WORDS"
      ],
      "metadata": {
        "id": "hqU01F8kZ-28"
      },
      "execution_count": 15,
      "outputs": []
    },
    {
      "cell_type": "code",
      "source": [
        "cleaned_tweets = []\n",
        "for tweet in splitted_tweets:\n",
        "  cleaned_tweets.append(remove_stopwords(tweet))"
      ],
      "metadata": {
        "id": "pJjdkpKVh3-w"
      },
      "execution_count": 16,
      "outputs": []
    },
    {
      "cell_type": "code",
      "source": [
        "cleaned_tweets[:5]"
      ],
      "metadata": {
        "colab": {
          "base_uri": "https://localhost:8080/"
        },
        "id": "IMak1kS0i1MQ",
        "outputId": "9e6fd5b6-b7b9-4e09-861c-4f3556e56075"
      },
      "execution_count": 17,
      "outputs": [
        {
          "output_type": "execute_result",
          "data": {
            "text/plain": [
              "[['Awww', 'bummer', 'shoulda', 'got', 'David', 'Carr', 'Third', 'Day'],\n",
              " ['upset',\n",
              "  'update',\n",
              "  'Facebook',\n",
              "  'texting',\n",
              "  'might',\n",
              "  'cry',\n",
              "  'result',\n",
              "  'School',\n",
              "  'today',\n",
              "  'also',\n",
              "  'Blah'],\n",
              " ['dived', 'many', 'times', 'ball', 'Managed', 'save', 'rest', 'go', 'bounds'],\n",
              " ['whole', 'body', 'feels', 'itchy', 'like', 'fire'],\n",
              " ['behaving', 'mad', 'see']]"
            ]
          },
          "metadata": {},
          "execution_count": 17
        }
      ]
    },
    {
      "cell_type": "code",
      "source": [
        "cleaned_tweets[0][0]"
      ],
      "metadata": {
        "id": "kbEHVxEhy7sZ",
        "outputId": "04b70af7-d19d-4558-ac4b-c39cb01b9ffa",
        "colab": {
          "base_uri": "https://localhost:8080/",
          "height": 35
        }
      },
      "execution_count": 18,
      "outputs": [
        {
          "output_type": "execute_result",
          "data": {
            "text/plain": [
              "'Awww'"
            ],
            "application/vnd.google.colaboratory.intrinsic+json": {
              "type": "string"
            }
          },
          "metadata": {},
          "execution_count": 18
        }
      ]
    },
    {
      "cell_type": "code",
      "source": [
        "#all lower\n",
        "for tweet in range(len(cleaned_tweets)):\n",
        "  for i in range(len(cleaned_tweets[tweet])):\n",
        "    cleaned_tweets[tweet][i] = cleaned_tweets[tweet][i].lower()"
      ],
      "metadata": {
        "id": "g3VHSfpxwGxp"
      },
      "execution_count": 19,
      "outputs": []
    },
    {
      "cell_type": "code",
      "source": [
        "cleaned_tweets[0]"
      ],
      "metadata": {
        "id": "ioKzaI_8xHE6",
        "outputId": "e2f95052-e74a-481c-823c-d03514ebb060",
        "colab": {
          "base_uri": "https://localhost:8080/"
        }
      },
      "execution_count": 20,
      "outputs": [
        {
          "output_type": "execute_result",
          "data": {
            "text/plain": [
              "['awww', 'bummer', 'shoulda', 'got', 'david', 'carr', 'third', 'day']"
            ]
          },
          "metadata": {},
          "execution_count": 20
        }
      ]
    },
    {
      "cell_type": "code",
      "source": [
        "from nltk.stem.snowball import SnowballStemmer"
      ],
      "metadata": {
        "id": "p4YcEVgIhBz1"
      },
      "execution_count": 21,
      "outputs": []
    },
    {
      "cell_type": "code",
      "source": [
        "#stemming\n",
        "snow_stemmer = SnowballStemmer(language='english')\n",
        "for i in range(len(cleaned_tweets)):\n",
        "  for j in range(len(cleaned_tweets[i])):\n",
        "    cleaned_tweets[i][j] = snow_stemmer.stem(cleaned_tweets[i][j])"
      ],
      "metadata": {
        "id": "97jQm0Vre3QM"
      },
      "execution_count": 22,
      "outputs": []
    },
    {
      "cell_type": "code",
      "source": [
        "from tensorflow.keras.preprocessing.text import Tokenizer\n",
        "from tensorflow.keras.preprocessing.sequence import pad_sequences\n"
      ],
      "metadata": {
        "id": "02WXnC0VyQiw"
      },
      "execution_count": 23,
      "outputs": []
    },
    {
      "cell_type": "code",
      "source": [
        "tokenizer = Tokenizer()\n",
        "tokenizer.fit_on_texts(cleaned_tweets)\n",
        "tweets_squenced=tokenizer.texts_to_sequences(cleaned_tweets)"
      ],
      "metadata": {
        "id": "Xo13Tr-vzmTp"
      },
      "execution_count": 24,
      "outputs": []
    },
    {
      "cell_type": "code",
      "source": [
        "tweets_squenced[:5]"
      ],
      "metadata": {
        "id": "iySauL_Pz7Yp",
        "outputId": "7b683638-647c-4c49-f0fd-0cc3a4963767",
        "colab": {
          "base_uri": "https://localhost:8080/"
        }
      },
      "execution_count": 25,
      "outputs": [
        {
          "output_type": "execute_result",
          "data": {
            "text/plain": [
              "[[351, 1010, 2973, 11, 687, 7237, 1624, 3],\n",
              " [576, 215, 419, 345, 199, 229, 946, 74, 9, 184, 962],\n",
              " [3515, 221, 10, 806, 683, 495, 337, 1, 2630],\n",
              " [329, 627, 20, 2442, 6, 837],\n",
              " [3881, 444, 19]]"
            ]
          },
          "metadata": {},
          "execution_count": 25
        }
      ]
    },
    {
      "cell_type": "code",
      "source": [
        "pad_seq_tweets=pad_sequences(tweets_squenced)\n",
        "pad_seq_tweets[:2]"
      ],
      "metadata": {
        "id": "x0IXeb7r0CLL",
        "outputId": "a87c8127-5e23-461b-825c-1c7af93f8005",
        "colab": {
          "base_uri": "https://localhost:8080/"
        }
      },
      "execution_count": 26,
      "outputs": [
        {
          "output_type": "execute_result",
          "data": {
            "text/plain": [
              "array([[   0,    0,    0,    0,    0,    0,    0,    0,    0,    0,    0,\n",
              "           0,    0,    0,    0,    0,    0,    0,    0,    0,    0,    0,\n",
              "           0,    0,    0,    0,    0,    0,    0,    0,    0,    0,    0,\n",
              "           0,    0,    0,    0,    0,    0,    0,    0,    0,  351, 1010,\n",
              "        2973,   11,  687, 7237, 1624,    3],\n",
              "       [   0,    0,    0,    0,    0,    0,    0,    0,    0,    0,    0,\n",
              "           0,    0,    0,    0,    0,    0,    0,    0,    0,    0,    0,\n",
              "           0,    0,    0,    0,    0,    0,    0,    0,    0,    0,    0,\n",
              "           0,    0,    0,    0,    0,    0,  576,  215,  419,  345,  199,\n",
              "         229,  946,   74,    9,  184,  962]], dtype=int32)"
            ]
          },
          "metadata": {},
          "execution_count": 26
        }
      ]
    },
    {
      "cell_type": "code",
      "source": [
        "target = data['Target']\n",
        "target = data['Target'].replace(4,1)"
      ],
      "metadata": {
        "id": "_sxZ44-c1rVw"
      },
      "execution_count": 27,
      "outputs": []
    },
    {
      "cell_type": "code",
      "source": [
        "target.unique()"
      ],
      "metadata": {
        "id": "9gx59e-g-F-y",
        "outputId": "f92e3e3e-3542-456f-a925-e78086fb887a",
        "colab": {
          "base_uri": "https://localhost:8080/"
        }
      },
      "execution_count": 28,
      "outputs": [
        {
          "output_type": "execute_result",
          "data": {
            "text/plain": [
              "array([0, 1])"
            ]
          },
          "metadata": {},
          "execution_count": 28
        }
      ]
    },
    {
      "cell_type": "code",
      "source": [
        "#vocab size\n",
        "vocab_size = len(tokenizer.word_index)\n",
        "vocab_size"
      ],
      "metadata": {
        "id": "fQcBTnkR22kA",
        "outputId": "92a64d1b-0af3-4181-8865-1f953bba6292",
        "colab": {
          "base_uri": "https://localhost:8080/"
        }
      },
      "execution_count": 29,
      "outputs": [
        {
          "output_type": "execute_result",
          "data": {
            "text/plain": [
              "220989"
            ]
          },
          "metadata": {},
          "execution_count": 29
        }
      ]
    },
    {
      "cell_type": "code",
      "source": [
        "from sklearn.model_selection import train_test_split\n",
        "trainX,testX,trainy,testy=train_test_split(pad_seq_tweets,target,test_size=0.1)\n"
      ],
      "metadata": {
        "id": "rvYPNIrN0qf8"
      },
      "execution_count": 30,
      "outputs": []
    },
    {
      "cell_type": "code",
      "source": [
        "from tensorflow.keras.models import Sequential\n",
        "from tensorflow.keras.layers import LSTM,Dense,Dropout,Embedding,Bidirectional"
      ],
      "metadata": {
        "id": "o927RWAh16rh"
      },
      "execution_count": 31,
      "outputs": []
    },
    {
      "cell_type": "code",
      "source": [
        "model = Sequential()\n",
        "model.add(Embedding(vocab_size+1,15,input_length=50))\n",
        "\n",
        "model.add(Bidirectional(LSTM(units=64)))\n",
        "\n",
        "\n",
        "model.add(Dense(1,activation='sigmoid'))\n",
        "model.compile(loss=\"binary_crossentropy\",optimizer='RMSprop',metrics=['accuracy'])\n",
        "model.summary()"
      ],
      "metadata": {
        "id": "YjGzZ-bM3PAA",
        "outputId": "0005d64f-d2c0-4537-ce55-012e9c290c98",
        "colab": {
          "base_uri": "https://localhost:8080/"
        }
      },
      "execution_count": 34,
      "outputs": [
        {
          "output_type": "stream",
          "name": "stdout",
          "text": [
            "Model: \"sequential_1\"\n",
            "_________________________________________________________________\n",
            " Layer (type)                Output Shape              Param #   \n",
            "=================================================================\n",
            " embedding_1 (Embedding)     (None, 50, 15)            3314850   \n",
            "                                                                 \n",
            " bidirectional_2 (Bidirectio  (None, 128)              40960     \n",
            " nal)                                                            \n",
            "                                                                 \n",
            " dense_1 (Dense)             (None, 1)                 129       \n",
            "                                                                 \n",
            "=================================================================\n",
            "Total params: 3,355,939\n",
            "Trainable params: 3,355,939\n",
            "Non-trainable params: 0\n",
            "_________________________________________________________________\n"
          ]
        }
      ]
    },
    {
      "cell_type": "code",
      "source": [
        "import time\n",
        "start = time.time()\n",
        "history = model.fit(trainX,trainy,validation_split=0.1,batch_size=1024,verbose=1,epochs=5)\n",
        "end = time.time()"
      ],
      "metadata": {
        "id": "DOUKCYFK3454",
        "outputId": "fec42be2-4bd3-4e14-99f8-ba300d3100b9",
        "colab": {
          "base_uri": "https://localhost:8080/"
        }
      },
      "execution_count": 35,
      "outputs": [
        {
          "output_type": "stream",
          "name": "stdout",
          "text": [
            "Epoch 1/5\n",
            "1266/1266 [==============================] - 798s 627ms/step - loss: 0.4937 - accuracy: 0.7605 - val_loss: 0.4685 - val_accuracy: 0.7751\n",
            "Epoch 2/5\n",
            "1266/1266 [==============================] - 782s 617ms/step - loss: 0.4595 - accuracy: 0.7818 - val_loss: 0.4618 - val_accuracy: 0.7787\n",
            "Epoch 3/5\n",
            "1266/1266 [==============================] - 782s 618ms/step - loss: 0.4497 - accuracy: 0.7877 - val_loss: 0.4569 - val_accuracy: 0.7820\n",
            "Epoch 4/5\n",
            "1266/1266 [==============================] - 780s 616ms/step - loss: 0.4426 - accuracy: 0.7923 - val_loss: 0.4547 - val_accuracy: 0.7832\n",
            "Epoch 5/5\n",
            "1266/1266 [==============================] - 776s 613ms/step - loss: 0.4367 - accuracy: 0.7963 - val_loss: 0.4559 - val_accuracy: 0.7824\n"
          ]
        }
      ]
    },
    {
      "cell_type": "code",
      "source": [
        "training_time = (end-start)/60\n",
        "print(str(training_time)+\" Min\")"
      ],
      "metadata": {
        "id": "hdm7Q7lLgLDe",
        "outputId": "9e117136-204a-4a07-889e-8f8480e35d2c",
        "colab": {
          "base_uri": "https://localhost:8080/"
        }
      },
      "execution_count": 38,
      "outputs": [
        {
          "output_type": "stream",
          "name": "stdout",
          "text": [
            "65.4323054711024 Min\n"
          ]
        }
      ]
    },
    {
      "cell_type": "code",
      "source": [
        "predictions = model.predict(testX)"
      ],
      "metadata": {
        "id": "ie2_2Vgz4f7T"
      },
      "execution_count": 39,
      "outputs": []
    },
    {
      "cell_type": "code",
      "source": [
        "predictions"
      ],
      "metadata": {
        "id": "J8lD8afjUaTD",
        "outputId": "9517501d-facd-4f30-91f5-a137b6bb8032",
        "colab": {
          "base_uri": "https://localhost:8080/"
        }
      },
      "execution_count": 40,
      "outputs": [
        {
          "output_type": "execute_result",
          "data": {
            "text/plain": [
              "array([[0.7283437 ],\n",
              "       [0.45970613],\n",
              "       [0.17865911],\n",
              "       ...,\n",
              "       [0.621571  ],\n",
              "       [0.24530631],\n",
              "       [0.10751921]], dtype=float32)"
            ]
          },
          "metadata": {},
          "execution_count": 40
        }
      ]
    },
    {
      "cell_type": "code",
      "source": [
        "Output = []\n",
        "for pred in predictions:\n",
        "  if pred >= 0.5:\n",
        "    Output.append(1)\n",
        "  else:\n",
        "    Output.append(0)"
      ],
      "metadata": {
        "id": "aLsEleYhUlrc"
      },
      "execution_count": 41,
      "outputs": []
    },
    {
      "cell_type": "code",
      "source": [
        " from sklearn.metrics import accuracy_score\n",
        " accuracy_score(testy,Output)"
      ],
      "metadata": {
        "id": "BrJ0tlQSOxSi",
        "outputId": "dabac7a8-414c-4a80-dd6b-0be252c17a22",
        "colab": {
          "base_uri": "https://localhost:8080/"
        }
      },
      "execution_count": 42,
      "outputs": [
        {
          "output_type": "execute_result",
          "data": {
            "text/plain": [
              "0.78455"
            ]
          },
          "metadata": {},
          "execution_count": 42
        }
      ]
    },
    {
      "cell_type": "code",
      "source": [
        "plt.plot(history.history['accuracy'])\n",
        "plt.plot(history.history['val_accuracy'])\n",
        "plt.legend(['training_accuracy','Val_accuracy'])\n",
        "plt.title('accuracy')\n",
        "plt.xlabel('epochs')"
      ],
      "metadata": {
        "id": "Cb8BH8oseiEE",
        "outputId": "5a305036-6fef-4bd0-cbca-f811d4ae23c6",
        "colab": {
          "base_uri": "https://localhost:8080/",
          "height": 312
        }
      },
      "execution_count": 43,
      "outputs": [
        {
          "output_type": "execute_result",
          "data": {
            "text/plain": [
              "Text(0.5, 0, 'epochs')"
            ]
          },
          "metadata": {},
          "execution_count": 43
        },
        {
          "output_type": "display_data",
          "data": {
            "text/plain": [
              "<Figure size 432x288 with 1 Axes>"
            ],
            "image/png": "[encoded data removed]"
          },
          "metadata": {
            "needs_background": "light"
          }
        }
      ]
    },
    {
      "cell_type": "code",
      "source": [
        "plt.plot(history.history['loss'])\n",
        "plt.plot(history.history['val_loss'])\n",
        "plt.legend(['training_Loss','Val_Loss'])\n",
        "plt.title('Loss')\n",
        "plt.xlabel('epochs')"
      ],
      "metadata": {
        "id": "ZLcS4yFWefJV",
        "outputId": "60914252-d5f8-4741-efdf-b4f5feabc4ce",
        "colab": {
          "base_uri": "https://localhost:8080/",
          "height": 312
        }
      },
      "execution_count": 44,
      "outputs": [
        {
          "output_type": "execute_result",
          "data": {
            "text/plain": [
              "Text(0.5, 0, 'epochs')"
            ]
          },
          "metadata": {},
          "execution_count": 44
        },
        {
          "output_type": "display_data",
          "data": {
            "text/plain": [
              "<Figure size 432x288 with 1 Axes>"
            ],
            "image/png": "[encoded data removed]"
          },
          "metadata": {
            "needs_background": "light"
          }
        }
      ]
    },
    {
      "cell_type": "code",
      "source": [
        ""
      ],
      "metadata": {
        "id": "czmO-HCr16PB"
      },
      "execution_count": 44,
      "outputs": []
    }
  ]
}